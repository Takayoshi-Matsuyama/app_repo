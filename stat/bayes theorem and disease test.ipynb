{
 "cells": [
  {
   "cell_type": "markdown",
   "metadata": {},
   "source": [
    "# ベイズの定理と疾患検査\n",
    "\n",
    "# 要旨\n",
    "\n",
    "個人的に作成したサンプルコードをフリーウェアとして公開する。\n",
    "\n",
    "# ライブラリバージョン\n",
    "\n",
    "本サンプル作成時のpythonおよびモジュールのバージョンは次のとおり。\n",
    "\n",
    "* python 3.13.1 (tags/v3.13.1:0671451, Dec  3 2024, 19:06:28) [MSC v.1942 64 bit (AMD64)]\n",
    "* numpy 2.2.0"
   ]
  },
  {
   "cell_type": "markdown",
   "metadata": {},
   "source": [
    "# ベイズの定理"
   ]
  },
  {
   "cell_type": "code",
   "execution_count": 1,
   "metadata": {},
   "outputs": [],
   "source": [
    "def disease_test(P_H1, P_A_H1, P_Ac_H2):\n",
    "    \"\"\"ベイズの定理により疾患検査の事後確率を計算する  \n",
    "    (H1: 疾患あり, H2: 疾患なし, A: 検査陽性, Ac: 検査陰性)\n",
    "\n",
    "    Args:\n",
    "        P_H1    (float): 事前確率(疾患率) P(疾患あり) \n",
    "        P_A_H1  (float): 検査精度(感度)   P(陽性|疾患あり)\n",
    "        P_Ac_H2 (float): 検査精度(特異度) P(陰性|疾患なし)\n",
    "\n",
    "    Returns:\n",
    "        (P_H1_A, P_H2_A, P_H2_Ac, P_H1_Ac) (float):  事後確率のタプル\n",
    "            真陽性率 P(疾患あり|陽性),\n",
    "            偽陽性率 P(疾患なし|陽性),\n",
    "            真陰性率 P(疾患なし|陰性),\n",
    "            偽陰性率 P(疾患あり|陰性))\n",
    "    \"\"\"\n",
    "    P_H2 = 1 - P_H1       # 事前確率(非疾患率)\n",
    "    P_A_H2 = 1 - P_Ac_H2  # 検査精度(偽陽性)\n",
    "    P_Ac_H1 = 1 - P_A_H1  # 検査精度(偽陰性)\n",
    "\n",
    "    # 検査前 各領域の確率\n",
    "    P_A_and_H1 = P_H1 * P_A_H1\n",
    "    P_A_and_H2 = P_H2 * P_A_H2\n",
    "    P_Ac_and_H2 = P_H2 * P_Ac_H2\n",
    "    P_Ac_and_H1 = P_H1 * P_Ac_H1\n",
    "    P_all = P_A_and_H1 + P_A_and_H2 + P_Ac_and_H2 + P_Ac_and_H1\n",
    "    print('検査前 各領域の確率')\n",
    "    print('P(A ∩ H1) =', P_A_and_H1)\n",
    "    print('P(A ∩ H2) =', P_A_and_H2)\n",
    "    print('P(Ac ∩ H2) =', P_Ac_and_H2)\n",
    "    print('P(Ac ∩ H1) =', P_Ac_and_H1)\n",
    "    print('P(全検査対象) =', P_all)\n",
    "\n",
    "    # 事後確率\n",
    "    P_H1_A = (P_H1 * P_A_H1) / ((P_H1 * P_A_H1) + (P_H2 * P_A_H2))  # P(疾患あり|陽性)\n",
    "    P_H2_A = (P_H2 * P_A_H2) / ((P_H1 * P_A_H1) + (P_H2 * P_A_H2))  # P(疾患なし|陽性)\n",
    "    P_H2_Ac = (P_H2 * P_Ac_H2) / ((P_H1 * P_Ac_H1) + (P_H2 * P_Ac_H2))  # P(疾患なし|陰性)\n",
    "    P_H1_Ac = (P_H1 * P_Ac_H1) / ((P_H1 * P_Ac_H1) + (P_H2 * P_Ac_H2))  # P(疾患あり|陰性)\n",
    "\n",
    "    print('')\n",
    "    print('事後確率')\n",
    "    print('真陽性率P(H1|A) =', P_H1_A)\n",
    "    print('偽陽性率P(H2|A) =', P_H2_A)\n",
    "    print('真陰性率P(H2|Ac) =', P_H2_Ac)\n",
    "    print('偽陽性率P(H1|Ac) =', P_H1_Ac)\n",
    "\n",
    "    return (P_H1_A, P_H2_A, P_H2_Ac, P_H1_Ac)"
   ]
  },
  {
   "cell_type": "markdown",
   "metadata": {},
   "source": [
    "# 疾患検査 (1回目)"
   ]
  },
  {
   "cell_type": "code",
   "execution_count": 2,
   "metadata": {},
   "outputs": [
    {
     "name": "stdout",
     "output_type": "stream",
     "text": [
      "検査前 各領域の確率\n",
      "P(A ∩ H1) = 0.0007\n",
      "P(A ∩ H2) = 0.00999000000000001\n",
      "P(Ac ∩ H2) = 0.98901\n",
      "P(Ac ∩ H1) = 0.00030000000000000003\n",
      "P(全検査対象) = 0.9999999999999999\n",
      "\n",
      "事後確率\n",
      "真陽性率P(H1|A) = 0.06548175865294663\n",
      "偽陽性率P(H2|A) = 0.9345182413470534\n",
      "真陰性率P(H2|Ac) = 0.9996967583467266\n",
      "偽陽性率P(H1|Ac) = 0.0003032416532734937\n"
     ]
    }
   ],
   "source": [
    "P_H1 = 0.001   # 全人口における疾患率 0.1%\n",
    "P_A_H1 = 0.7   # 検査精度 (感度)   P(陽性|疾患あり)\n",
    "P_Ac_H2 = 0.99 # 検査精度 (特異度) P(陰性|疾患なし)\n",
    "\n",
    "P_H1_A, P_H2_A, P_H2_Ac, P_H1_Ac = disease_test(P_H1, P_A_H1, P_Ac_H2)"
   ]
  },
  {
   "cell_type": "markdown",
   "metadata": {},
   "source": [
    "# 疾患検査 (2回目)"
   ]
  },
  {
   "cell_type": "code",
   "execution_count": 3,
   "metadata": {},
   "outputs": [
    {
     "name": "stdout",
     "output_type": "stream",
     "text": [
      "検査前 各領域の確率\n",
      "P(A ∩ H1) = 0.04583723105706264\n",
      "P(A ∩ H2) = 0.009345182413470543\n",
      "P(Ac ∩ H2) = 0.9251730589335829\n",
      "P(Ac ∩ H1) = 0.01964452759588399\n",
      "P(全検査対象) = 1.0000000000000002\n",
      "\n",
      "事後確率\n",
      "真陽性率P(H1|A) = 0.8306492625868789\n",
      "偽陽性率P(H2|A) = 0.16935073741312112\n",
      "真陰性率P(H2|Ac) = 0.9792081266522114\n",
      "偽陽性率P(H1|Ac) = 0.02079187334778862\n"
     ]
    }
   ],
   "source": [
    "P_H1 = P_H1_A  # 前回検査の真陽性率\n",
    "P_A_H1 = 0.7   # 検査精度 (感度)   P(陽性|疾患あり)\n",
    "P_Ac_H2 = 0.99 # 検査精度 (特異度) P(陰性|疾患なし)\n",
    "\n",
    "P_H1_A, P_H2_A, P_H2_Ac, P_H1_Ac = disease_test(P_H1, P_A_H1, P_Ac_H2)"
   ]
  },
  {
   "cell_type": "markdown",
   "metadata": {},
   "source": [
    "# 疾患検査 (3回目)"
   ]
  },
  {
   "cell_type": "code",
   "execution_count": 4,
   "metadata": {},
   "outputs": [
    {
     "name": "stdout",
     "output_type": "stream",
     "text": [
      "検査前 各領域の確率\n",
      "P(A ∩ H1) = 0.5814544838108152\n",
      "P(A ∩ H2) = 0.0016935073741312127\n",
      "P(Ac ∩ H2) = 0.1676572300389899\n",
      "P(Ac ∩ H1) = 0.2491947787760637\n",
      "P(全検査対象) = 1.0\n",
      "\n",
      "事後確率\n",
      "真陽性率P(H1|A) = 0.9970959217904704\n",
      "偽陽性率P(H2|A) = 0.0029040782095296866\n",
      "真陰性率P(H2|Ac) = 0.4021984457159593\n",
      "偽陽性率P(H1|Ac) = 0.5978015542840408\n"
     ]
    }
   ],
   "source": [
    "P_H1 = P_H1_A  # 前回検査の真陽性率\n",
    "P_A_H1 = 0.7   # 検査精度 (感度)   P(陽性|疾患あり)\n",
    "P_Ac_H2 = 0.99 # 検査精度 (特異度) P(陰性|疾患なし)\n",
    "\n",
    "P_H1_A, P_H2_A, P_H2_Ac, P_H1_Ac = disease_test(P_H1, P_A_H1, P_Ac_H2)"
   ]
  },
  {
   "cell_type": "code",
   "execution_count": 5,
   "metadata": {},
   "outputs": [
    {
     "name": "stdout",
     "output_type": "stream",
     "text": [
      "3.13.1 (tags/v3.13.1:0671451, Dec  3 2024, 19:06:28) [MSC v.1942 64 bit (AMD64)]\n",
      "2.2.0\n"
     ]
    }
   ],
   "source": [
    "# バージョン情報\n",
    "import sys\n",
    "import numpy as np\n",
    "print(sys.version)\n",
    "print(np.__version__)"
   ]
  },
  {
   "cell_type": "code",
   "execution_count": null,
   "metadata": {},
   "outputs": [],
   "source": []
  }
 ],
 "metadata": {
  "kernelspec": {
   "display_name": "Python 3",
   "language": "python",
   "name": "python3"
  },
  "language_info": {
   "codemirror_mode": {
    "name": "ipython",
    "version": 3
   },
   "file_extension": ".py",
   "mimetype": "text/x-python",
   "name": "python",
   "nbconvert_exporter": "python",
   "pygments_lexer": "ipython3",
   "version": "3.13.1"
  }
 },
 "nbformat": 4,
 "nbformat_minor": 2
}
